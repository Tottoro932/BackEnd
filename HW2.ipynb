{
 "cells": [
  {
   "cell_type": "markdown",
   "metadata": {},
   "source": [
    "### Правильные скобочные последовательности\n",
    "Генерация правильной скобочной последовательности определенной длины в лексикографическом порядке"
   ]
  },
  {
   "cell_type": "code",
   "execution_count": 1,
   "metadata": {},
   "outputs": [],
   "source": [
    "def psp(n: int):\n",
    "    col_open = 0\n",
    "    col_close = 0\n",
    "    s = ''\n",
    "    gen(n,col_open, col_close,s)"
   ]
  },
  {
   "cell_type": "code",
   "execution_count": 2,
   "metadata": {},
   "outputs": [],
   "source": [
    "def gen(n: int,col_open: int, col_close: int, s: str):\n",
    "    if col_open == n and col_close == n:\n",
    "        print(s)\n",
    "    else:\n",
    "        if col_open < n:\n",
    "            gen(n, col_open+1, col_close,s+'(')\n",
    "        if col_close < col_open:\n",
    "            gen(n,col_open, col_close+1,s+ ')')\n"
   ]
  },
  {
   "cell_type": "code",
   "execution_count": 3,
   "metadata": {},
   "outputs": [
    {
     "name": "stdout",
     "output_type": "stream",
     "text": [
      "3\n",
      "((()))\n",
      "(()())\n",
      "(())()\n",
      "()(())\n",
      "()()()\n"
     ]
    }
   ],
   "source": [
    "psp(int(input()))"
   ]
  },
  {
   "cell_type": "markdown",
   "metadata": {},
   "source": [
    "### Составление самого большого числа\n",
    "Необходимо составить наибольшее число из числа предложенных"
   ]
  },
  {
   "cell_type": "code",
   "execution_count": 4,
   "metadata": {},
   "outputs": [],
   "source": [
    "def largest_number(b: int, numbers:str)->str:\n",
    "    res = ''\n",
    "    res1 = ''\n",
    "    numb = numbers.split()\n",
    "    numb_sort = sorted(numb,reverse = True)\n",
    "    fl = 1\n",
    "    while fl != 0:\n",
    "        fl = 0\n",
    "        for i in range(len(numb_sort)-1):\n",
    "            n1 = numb_sort[i]\n",
    "            n2 = numb_sort[i+1]\n",
    "            if n2+n1 > n1+n2:\n",
    "                numb_sort[i],numb_sort[i+1] = numb_sort[i+1],numb_sort[i]\n",
    "                fl = 1\n",
    "    return ''.join(numb_sort)\n",
    "            "
   ]
  },
  {
   "cell_type": "code",
   "execution_count": 5,
   "metadata": {},
   "outputs": [
    {
     "name": "stdout",
     "output_type": "stream",
     "text": [
      "3\n",
      "1 783 2\n",
      "78321\n"
     ]
    }
   ],
   "source": [
    "print(largest_number(int(input()),input()))"
   ]
  },
  {
   "cell_type": "code",
   "execution_count": null,
   "metadata": {},
   "outputs": [],
   "source": []
  },
  {
   "cell_type": "code",
   "execution_count": null,
   "metadata": {},
   "outputs": [],
   "source": []
  }
 ],
 "metadata": {
  "kernelspec": {
   "display_name": "Python 3",
   "language": "python",
   "name": "python3"
  },
  "language_info": {
   "codemirror_mode": {
    "name": "ipython",
    "version": 3
   },
   "file_extension": ".py",
   "mimetype": "text/x-python",
   "name": "python",
   "nbconvert_exporter": "python",
   "pygments_lexer": "ipython3",
   "version": "3.8.5"
  }
 },
 "nbformat": 4,
 "nbformat_minor": 4
}
